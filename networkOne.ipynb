{
 "cells": [
  {
   "cell_type": "code",
   "execution_count": 1,
   "metadata": {
    "collapsed": true
   },
   "outputs": [],
   "source": [
    "import numpy\n",
    "import matplotlib\n",
    "import scipy.special #scipy.special for the sigmoid function expit()\n",
    "import os\n",
    "import sys\n",
    "# print(sys.version)\n",
    "%matplotlib inline"
   ]
  },
  {
   "cell_type": "code",
   "execution_count": 2,
   "metadata": {
    "collapsed": true
   },
   "outputs": [],
   "source": [
    "# ------------------------------ class definition -----------------------------------------\n",
    "\n",
    "class neuralNetwork:\n",
    "\n",
    "    #initialise the neural network\n",
    "    def __init__(self, inputnodes, hiddennodes, outputnodes, learningrate ):\n",
    "        #set number of nodes in each input, hidden, output layer\n",
    "        self.inodes = inputnodes\n",
    "        self.hnodes = hiddennodes\n",
    "        self.onodes = outputnodes\n",
    "        \n",
    "        #link weight matrices, wih and who (weight input-hidden and hidden-output)\n",
    "        #weights inside the arrays are w_i_j, where link is from node i to node j in the next layer\n",
    "        \n",
    "        # random weights between 0.5 and -0.5\n",
    "        #self.wih = (numpy.random.rand(self.hnodes, self.inodes) - 0.5)\n",
    "        #self.who = (numpy.random.rand(self.onodes, self.hnodes) - 0.5)\n",
    "        \n",
    "        #random weights sampled from normal distribution centred around 0,\n",
    "        #Standard Dev is 1/√(number of incoming links)\n",
    "        self.wih = numpy.random.normal(0.0, pow(self.hnodes, -0.5), (self.hnodes, self.inodes))\n",
    "        self.who = numpy.random.normal(0.0, pow(self.onodes, -0.5), (self.onodes, self.hnodes))\n",
    "\n",
    "\n",
    "        #learning rate\n",
    "        self.lr = learningrate\n",
    "    \n",
    "        #activation function is the sigmoid function \n",
    "        self.activation_function = lambda x: scipy.special.expit(x)\n",
    "        \n",
    "        pass\n",
    "\n",
    "    \n",
    "    #train the neural network\n",
    "    def train(self, inputs_list, targets_list):\n",
    "\n",
    "        #convert input & target lists to 2d array\n",
    "        inputs = numpy.array(inputs_list, ndmin=2).T\n",
    "        targets = numpy.array(targets_list, ndmin=2).T\n",
    "\n",
    "        # output of previous layer * weights is Signal. Sigmoid applied to signal is new output\n",
    "\n",
    "        #calculate signals into hidden layer\n",
    "        hidden_inputs = numpy.dot(self.wih, inputs)\n",
    "\n",
    "        #calculate the signals emerging from hidden layer\n",
    "        hidden_outputs = self.activation_function(hidden_inputs)\n",
    "\n",
    "        #calculate signals into final output layer\n",
    "        final_inputs = numpy.dot(self.who, hidden_outputs)\n",
    "\n",
    "        #calculate the signals emerging from final output layer\n",
    "        final_outputs = self.activation_function(final_inputs)\n",
    "\n",
    "        # ERROR\n",
    "\n",
    "        #output layer error is the (target - actual)\n",
    "        output_errors = targets - final_outputs\n",
    "\n",
    "        #hidden layer error is the output_errors, split by weights, recombined at hidden nodes\n",
    "        hidden_errors = numpy.dot(self.who.T, output_errors)\n",
    "\n",
    "        #update the weights for the links between the hidden and output layers\n",
    "        self.who += self.lr * numpy.dot((output_errors * final_outputs * (1.0 - final_outputs)), numpy.transpose(hidden_outputs))\n",
    "\n",
    "        #update the weights for the links between the input and hidden layers\n",
    "        self.wih += self.lr * numpy.dot((hidden_errors * hidden_outputs * (1.0 - hidden_outputs)), numpy.transpose(inputs))\n",
    "\n",
    "        pass\n",
    "    \n",
    "    #query the neural network   \n",
    "    def query(self, inputs_list):\n",
    "\n",
    "        #convert inputs list to 2d array\n",
    "        inputs = numpy.array(inputs_list, ndmin=2).T\n",
    "        #print(inputs)\n",
    "\n",
    "        #calculate signals into hidden layer\n",
    "        hidden_inputs = numpy.dot(self.wih, inputs)\n",
    "\n",
    "        #calculate the signals emerging from hidden layer\n",
    "        hidden_outputs = self.activation_function(hidden_inputs)\n",
    "\n",
    "        #calculate signals into final output layer\n",
    "        final_inputs = numpy.dot(self.who, hidden_outputs)\n",
    "\n",
    "        #calculate the signals emerging from final output layer\n",
    "        final_outputs = self.activation_function(final_inputs)\n",
    "\n",
    "        return final_outputs \n",
    "    \n",
    "    #show the neural network nodes and weights\n",
    "    def show(self):\n",
    "        print(\"Input Nodes:\",input_nodes, \"Hidden Nodes:\",hidden_nodes, \"OutPut NOdes:\", output_nodes)\n",
    "        print(\"weights of input-hidden\")\n",
    "        print(self.wih)\n",
    "        print(\"weights of hidden-output\")\n",
    "        print(self.who)"
   ]
  },
  {
   "cell_type": "code",
   "execution_count": 3,
   "metadata": {
    "collapsed": true
   },
   "outputs": [],
   "source": [
    "# number of input, hidden and output nodes\n",
    "input_nodes = 784\n",
    "hidden_nodes = 50\n",
    "output_nodes = 10\n",
    "\n",
    "# learning rate\n",
    "learning_rate = 0.1\n",
    "\n",
    "# create instance of neural network\n",
    "n = neuralNetwork(input_nodes,hidden_nodes,output_nodes, learning_rate)"
   ]
  },
  {
   "cell_type": "code",
   "execution_count": 4,
   "metadata": {
    "collapsed": true,
    "scrolled": true
   },
   "outputs": [],
   "source": [
    "# SHOW METHOD PRINTS NETWORK INFO\n",
    "# n.show()"
   ]
  },
  {
   "cell_type": "code",
   "execution_count": 5,
   "metadata": {
    "collapsed": true
   },
   "outputs": [],
   "source": [
    "# QUERY NETWORK WITH RANDOM TEST INPUTS. Len of input list must match number of input nodes\n",
    "# n.query([1, 0.5, 1.5,1, 0.5, 1.5,1, 0.5, 1.5,1.2])"
   ]
  },
  {
   "cell_type": "code",
   "execution_count": 6,
   "metadata": {
    "collapsed": true
   },
   "outputs": [],
   "source": [
    "# -------------------------------------- LOADING THE TRAINING DATA ---------------------------------------"
   ]
  },
  {
   "cell_type": "code",
   "execution_count": 7,
   "metadata": {
    "collapsed": true
   },
   "outputs": [],
   "source": [
    "# CHANGE DATA DIRECTORY\n",
    "# os.getcwd()\n",
    "os.chdir('/Users/patrickhedley-miller/code/ArtIntel/data/MNIST/mod_one')\n",
    "os.getcwd()\n",
    "\n",
    "# OPENS DATA FILE WITH READ METHOD TO PREVENT DATA ALTERATIONS \n",
    "data_file = open('mnist_copy_100_rows.csv', 'r')\n",
    "# .READLINES METHOD READS WHOLE FILE INTO ME# number of input, hidden and output nodes\n",
    "\n",
    "# create instance of neural network\n",
    "n = neuralNetwork(input_nodes,hidden_nodes,output_nodes, learning_rate)\n",
    "data_list = data_file.readlines()\n",
    "data_file.close()"
   ]
  },
  {
   "cell_type": "code",
   "execution_count": null,
   "metadata": {
    "collapsed": true
   },
   "outputs": [],
   "source": []
  },
  {
   "cell_type": "code",
   "execution_count": 8,
   "metadata": {
    "collapsed": true
   },
   "outputs": [],
   "source": [
    "# print(data_list[0]) # targets data label and the remaining 748 pixel data\n",
    "# print(data_list[0][0]) # targets the data label"
   ]
  },
  {
   "cell_type": "code",
   "execution_count": 9,
   "metadata": {
    "collapsed": true
   },
   "outputs": [],
   "source": [
    "# -------------------------------------- TRAINING THE NETWORK ---------------------------------------\n",
    "\n",
    "\n",
    "# for loop iterates through each row in data_list\n",
    "# targets is set to array of 0s the length of output nodes\n",
    "# the correct label row_value[0] is then used to change the correct output in array to 0.99\n",
    "\n",
    "#scale and shift the inputs\n",
    "# values range from 0 - 255. Inputs need to be between 0.01 - 0.99\n",
    "# therefore we divide by 255 to get inputs between 0 - 1\n",
    "# we multiply by 0.99 to get inputs between 0 - 0.99\n",
    "# we add 0.01 to get inputs between 0.01 - 0.99\n",
    "\n",
    "\n",
    "epochs = 2\n",
    "for i in range(epochs):\n",
    "    for record in data_list:    \n",
    "        row_values = record.split(',')\n",
    "        targets = numpy.zeros(output_nodes) + 0.01\n",
    "        targets[int(row_values[0])] = 0.99\n",
    "        inputs = (numpy.asfarray(row_values[1:])/ 255.0 * 0.99) + 0.01\n",
    "        n.train(inputs, targets)\n",
    "        pass\n",
    "    pass\n",
    "\n"
   ]
  },
  {
   "cell_type": "code",
   "execution_count": 10,
   "metadata": {
    "collapsed": true
   },
   "outputs": [],
   "source": [
    "# -------------------------------------- TESTING THE NETWORK ---------------------------------------\n",
    "\n",
    "# load the mnist test data CSV file into a list\n",
    "# test_data_file = open(\"mnist_dataset/mnist_test.csv\", 'r') -- TARIQ VERSION\n",
    "test_data_file = open(\"mnist_copy_10_rows.csv\", 'r')\n",
    "test_data_list = test_data_file.readlines()\n",
    "test_data_file.close()"
   ]
  },
  {
   "cell_type": "code",
   "execution_count": 27,
   "metadata": {},
   "outputs": [
    {
     "name": "stdout",
     "output_type": "stream",
     "text": [
      "2\n"
     ]
    }
   ],
   "source": [
    "# takes random line in training data and splits by commas. Targets correct label with 0\n",
    "from random import randint\n",
    "random_test = randint(0, 9)\n",
    "# print(test_data_list[0])\n",
    "row_values = test_data_list[random_test].split(',')\n",
    "print(row_values[0])"
   ]
  },
  {
   "cell_type": "code",
   "execution_count": 28,
   "metadata": {},
   "outputs": [
    {
     "data": {
      "text/plain": [
       "<matplotlib.image.AxesImage at 0x114a06390>"
      ]
     },
     "execution_count": 28,
     "metadata": {},
     "output_type": "execute_result"
    },
    {
     "data": {
      "image/png": "[encoded data removed]",
      "text/plain": [
       "<matplotlib.figure.Figure at 0x11499ff98>"
      ]
     },
     "metadata": {},
     "output_type": "display_data"
    }
   ],
   "source": [
    "# checks img array of random test row\n",
    "image_array = numpy.asfarray(row_values[1:]).reshape((28,28))\n",
    "matplotlib.pyplot.imshow(image_array, cmap='Greys', interpolation='None')"
   ]
  },
  {
   "cell_type": "code",
   "execution_count": 26,
   "metadata": {},
   "outputs": [
    {
     "data": {
      "text/plain": [
       "array([[ 0.27143914],\n",
       "       [ 0.0431725 ],\n",
       "       [ 0.07902184],\n",
       "       [ 0.14955787],\n",
       "       [ 0.03307839],\n",
       "       [ 0.06488643],\n",
       "       [ 0.25622794],\n",
       "       [ 0.16818655],\n",
       "       [ 0.03411992],\n",
       "       [ 0.10787263]])"
      ]
     },
     "execution_count": 26,
     "metadata": {},
     "output_type": "execute_result"
    }
   ],
   "source": [
    "# assigns inputs to scaled values of random_test img array\n",
    "# queries network with that array\n",
    "inputs = (numpy.asfarray(row_values[1:]) / 255.0 * 0.99) + 0.01\n",
    "n.query(inputs)"
   ]
  },
  {
   "cell_type": "code",
   "execution_count": 14,
   "metadata": {},
   "outputs": [
    {
     "name": "stdout",
     "output_type": "stream",
     "text": [
      "performance = 90.0 %\n"
     ]
    }
   ],
   "source": [
    "# ---------------------------------- TESTING THE NETWORK with Performance Metrics-------------------------------\n",
    "\n",
    "scorecard = []\n",
    "for record in test_data_list:\n",
    "    row_values = record.split(',')\n",
    "    correct_label = int(row_values[0])\n",
    "    inputs = (numpy.asfarray(row_values[1:])/ 255.0 * 0.99) + 0.01\n",
    "    outputs = n.query(inputs)\n",
    "    network_label = numpy.argmax(outputs)\n",
    "#     print('correct answer is:', correct_label)\n",
    "#     print('network answer is:', network_label)\n",
    "    if (network_label == correct_label):\n",
    "        scorecard.append(1)\n",
    "    else:\n",
    "        scorecard.append(0)\n",
    "#     print(scorecard)\n",
    "\n",
    "scorecard_array = numpy.asarray(scorecard)\n",
    "# print(scorecard_array.sum())\n",
    "# print(scorecard_array.size)\n",
    "\n",
    "performance = scorecard_array.sum()/ scorecard_array.size\n",
    "performance_percent = performance * 100\n",
    "print (\"performance =\", performance_percent, \"%\")"
   ]
  },
  {
   "cell_type": "code",
   "execution_count": null,
   "metadata": {
    "collapsed": true
   },
   "outputs": [],
   "source": []
  }
 ],
 "metadata": {
  "kernelspec": {
   "display_name": "Python 3",
   "language": "python",
   "name": "python3"
  },
  "language_info": {
   "codemirror_mode": {
    "name": "ipython",
    "version": 3
   },
   "file_extension": ".py",
   "mimetype": "text/x-python",
   "name": "python",
   "nbconvert_exporter": "python",
   "pygments_lexer": "ipython3",
   "version": "3.6.1"
  }
 },
 "nbformat": 4,
 "nbformat_minor": 2
}
